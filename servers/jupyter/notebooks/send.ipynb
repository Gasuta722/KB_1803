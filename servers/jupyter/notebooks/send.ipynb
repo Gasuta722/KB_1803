{
 "cells": [
  {
   "cell_type": "markdown",
   "metadata": {},
   "source": [
    "## 接続クライアントの作成"
   ]
  },
  {
   "cell_type": "code",
   "execution_count": 18,
   "metadata": {
    "ExecuteTime": {
     "end_time": "2018-10-17T11:49:47.242045Z",
     "start_time": "2018-10-17T11:49:47.235559Z"
    }
   },
   "outputs": [],
   "source": [
    "from influxdb import InfluxDBClient\n",
    "\n",
    "###Instantiate a connection to the InfluxDB.###\n",
    "user = 'root'\n",
    "password = 'root'\n",
    "dbname = 'superdry'\n",
    "host='influxdb'\n",
    "port=8086\n",
    "\n",
    "client = InfluxDBClient(host, port, user, password, dbname)\n",
    "client.create_database(dbname)"
   ]
  },
  {
   "cell_type": "markdown",
   "metadata": {},
   "source": [
    "## 送信データの作成"
   ]
  },
  {
   "cell_type": "code",
   "execution_count": 19,
   "metadata": {
    "ExecuteTime": {
     "end_time": "2018-10-17T11:49:48.126439Z",
     "start_time": "2018-10-17T11:49:48.116995Z"
    }
   },
   "outputs": [
    {
     "name": "stdout",
     "output_type": "stream",
     "text": [
      "[{'fields': {'co2': 3.0, 'humidity': 2.0, 'tvco': 5.0, 'wetness': '4.0', 'temperature': 1.0}, 'measurement': 'sensordata', 'tags': {'id': '0', 'user': 'umetsu'}}]\n"
     ]
    }
   ],
   "source": [
    "from numpy.random import *\n",
    "\n",
    "json_body = [\n",
    "        {\n",
    "            \"measurement\": \"sensordata\",\n",
    "                \"tags\": {\n",
    "                    \"user\": \"umetsu\",\n",
    "                    \"id\": \"0\"},\n",
    "            \"fields\": {\n",
    "                \"temperature\": 1.0,\n",
    "                \"humidity\":2.0,\n",
    "                \"co2\":3.0,\n",
    "                \"wetness\":\"4.0\",\n",
    "                \"tvco\":5.0\n",
    "            }\n",
    "        }\n",
    "    ]\n",
    "print(json_body)"
   ]
  },
  {
   "cell_type": "markdown",
   "metadata": {},
   "source": [
    "## 送信"
   ]
  },
  {
   "cell_type": "code",
   "execution_count": 20,
   "metadata": {
    "ExecuteTime": {
     "end_time": "2018-10-17T11:49:49.395908Z",
     "start_time": "2018-10-17T11:49:49.245678Z"
    }
   },
   "outputs": [
    {
     "data": {
      "text/plain": [
       "True"
      ]
     },
     "execution_count": 20,
     "metadata": {},
     "output_type": "execute_result"
    }
   ],
   "source": [
    "client.write_points(json_body)"
   ]
  },
  {
   "cell_type": "code",
   "execution_count": null,
   "metadata": {},
   "outputs": [],
   "source": []
  },
  {
   "cell_type": "code",
   "execution_count": null,
   "metadata": {},
   "outputs": [],
   "source": []
  }
 ],
 "metadata": {
  "hide_input": false,
  "kernelspec": {
   "display_name": "Python 3",
   "language": "python",
   "name": "python3"
  },
  "language_info": {
   "codemirror_mode": {
    "name": "ipython",
    "version": 3
   },
   "file_extension": ".py",
   "mimetype": "text/x-python",
   "name": "python",
   "nbconvert_exporter": "python",
   "pygments_lexer": "ipython3",
   "version": "3.5.2"
  },
  "toc": {
   "base_numbering": 1,
   "nav_menu": {},
   "number_sections": true,
   "sideBar": true,
   "skip_h1_title": false,
   "title_cell": "Table of Contents",
   "title_sidebar": "Contents",
   "toc_cell": false,
   "toc_position": {},
   "toc_section_display": true,
   "toc_window_display": false
  },
  "varInspector": {
   "cols": {
    "lenName": 16,
    "lenType": 16,
    "lenVar": 40
   },
   "kernels_config": {
    "python": {
     "delete_cmd_postfix": "",
     "delete_cmd_prefix": "del ",
     "library": "var_list.py",
     "varRefreshCmd": "print(var_dic_list())"
    },
    "r": {
     "delete_cmd_postfix": ") ",
     "delete_cmd_prefix": "rm(",
     "library": "var_list.r",
     "varRefreshCmd": "cat(var_dic_list()) "
    }
   },
   "types_to_exclude": [
    "module",
    "function",
    "builtin_function_or_method",
    "instance",
    "_Feature"
   ],
   "window_display": false
  }
 },
 "nbformat": 4,
 "nbformat_minor": 2
}
